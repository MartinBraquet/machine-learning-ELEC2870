{
 "cells": [
  {
   "cell_type": "markdown",
   "metadata": {
    "colab_type": "text",
    "id": "TERQPzGCB6Y6"
   },
   "source": [
    "# Installing the latest python 3 version and its necessary packages\n",
    "\n",
    "We strongly recommend installing Miniconda. There are installers for the 3 main Operating Systems (Linux, Windows & MacOS) https://docs.conda.io/en/latest/miniconda.html. \n",
    "\n",
    "To use the full 'power' of `python` you'll need a package manager to download and install all the necessary . The default one is `pip`, but in our current configuration we recommend you use `conda` (for the interested people among you, [here](https://www.anaconda.com/using-pip-in-a-conda-environment/) is a link to a blog post explaining why mixing both is bad idea).\n",
    "\n",
    "Once you've installed miniconda, open a terminal and install the following packages:\n",
    "\n",
    "`sklearn`, `numpy`, `pandas`, `matplotlib` by doing:\n",
    "\n",
    "`conda install <packages>` "
   ]
  },
  {
   "cell_type": "markdown",
   "metadata": {
    "colab_type": "text",
    "id": "c-Abe7wFhGmi"
   },
   "source": [
    "# What is a Jupyter Notebook?\n",
    "\n",
    "Python can be executed via the command line (by calling `python <program>.py` or inside a so called [`notebook`](https://jupyter.org/install). \n",
    "\n",
    "A notebook is a file composed of `cells` which can be executed seperately (`ctrl`+`enter` or `shift`+`enter` to also go to the next one) but that **share** a same memory system. This means that variables initialized in a certain cell can be accessed from any other cell as long as the former is executed *before* the latter. Try executing the 2 following cells"
   ]
  },
  {
   "cell_type": "code",
   "execution_count": 0,
   "metadata": {
    "colab": {},
    "colab_type": "code",
    "id": "Hi998DpvXYfV"
   },
   "outputs": [],
   "source": [
    "a = 5"
   ]
  },
  {
   "cell_type": "code",
   "execution_count": 0,
   "metadata": {
    "colab": {
     "base_uri": "https://localhost:8080/",
     "height": 35
    },
    "colab_type": "code",
    "id": "uzx3DFjdi-_C",
    "outputId": "0343db04-49cc-48ad-afdf-9e8fc7431d54"
   },
   "outputs": [
    {
     "name": "stdout",
     "output_type": "stream",
     "text": [
      "5\n"
     ]
    }
   ],
   "source": [
    "print(a)"
   ]
  },
  {
   "cell_type": "markdown",
   "metadata": {
    "colab_type": "text",
    "id": "kDAMgk7iviDI"
   },
   "source": [
    "A `cell` can thus be used to write and execute code or to write text. The default text format is [Markdown](https://github.com/adam-p/markdown-here/wiki/Markdown-Cheatsheet). Text mode also supports $\\LaTeX$ math environments which can be defined with the `$`-sign: $\\forall b \\in \\mathcal{B}: b \\ge \\frac{5}{2}$\n"
   ]
  },
  {
   "cell_type": "markdown",
   "metadata": {
    "colab_type": "text",
    "id": "8OgNt5EPXZU0"
   },
   "source": [
    "# The Fundamentals\n",
    "\n",
    "The python language syntax decided to do away with curly brackets and decided on seperating code-blocks by line indentations. The colon (`:`) indicates the start of such a new indentation\n",
    "\n"
   ]
  },
  {
   "cell_type": "code",
   "execution_count": 0,
   "metadata": {
    "colab": {
     "base_uri": "https://localhost:8080/",
     "height": 35
    },
    "colab_type": "code",
    "id": "da85iq-i6QDn",
    "outputId": "f6821f7d-b6b6-4baa-f854-a88a06c67b84"
   },
   "outputs": [
    {
     "name": "stdout",
     "output_type": "stream",
     "text": [
      "a is equal to 5\n"
     ]
    }
   ],
   "source": [
    "a = 5\n",
    "if a == 5:\n",
    "  print(\"a is equal to 5\")\n",
    "else:\n",
    "  print(\"Sadly a is not a beautiful 5 anymore :'(\")"
   ]
  },
  {
   "cell_type": "markdown",
   "metadata": {
    "colab_type": "text",
    "id": "4O7kABW56MKf"
   },
   "source": [
    "Python is strongly **dynamically** typed language. This means that a variable's `type` is only checked at runtime (= when executing the code), the same was already true for `R` and `Matlab`. If there is a term you don't understand, you'll find a handy glossary [here](https://docs.python.org/3.1/glossary.html).\n",
    "\n",
    "The base types are the following:\n",
    "* `int`: integer values\n",
    "* `float`: floating point values\n",
    "* `str`: strings of characters\n",
    "* `bool`: `True` or `False`\n",
    "\n",
    "\n",
    "But also more complex ones:\n",
    "* `list`: A list of items\n",
    "* `tuple`: An immutable list of items\n",
    "* `dict`: A `key`-`value` store, the keys can be of various types as long as they are hashable\n",
    "* `set`: A hashset of unique values\n",
    "\n",
    "The number of elements in thos data structures can be obtained by calling the `len` function. Note that, contrary to some other languages (i.e. `Matlab`), **the indexation starts at zero**."
   ]
  },
  {
   "cell_type": "code",
   "execution_count": 0,
   "metadata": {
    "colab": {
     "base_uri": "https://localhost:8080/",
     "height": 109
    },
    "colab_type": "code",
    "id": "_FupfXyAngZY",
    "outputId": "6dd4bf04-0aa0-41e7-8fb7-0dd2b54af6a3"
   },
   "outputs": [
    {
     "name": "stdout",
     "output_type": "stream",
     "text": [
      "Example of integer division: 2 vs floating point division: 2.5\n",
      "I'm a list of length 4\n",
      "Does t2 contain the same values as the second element in the tuple? True\n",
      "At key 'hey' in dico the value is: 1\n",
      "This set only has 6 elements\n"
     ]
    }
   ],
   "source": [
    "# (Text preceded by a '#' is ignored)\n",
    "# Base types\n",
    "a = 5\n",
    "print(f\"Example of integer division: {a//2} vs floating point division: {a/2}\")\n",
    "b = 3.5\n",
    "c = \"Hey I'm a suite of characters\"\n",
    "\n",
    "always_true = True or False\n",
    "always_false = True and False\n",
    "always_false = not True\n",
    "\n",
    "# Advanced types\n",
    "li = [1,2,3]\n",
    "li.append(5)\n",
    "print(f\"I'm a list of length {len(li)}\")\n",
    "\n",
    "tu = (7,9,8)\n",
    "t1, t2, t3 = tu\n",
    "print(f\"Does t2 contain the same values as the second element in the tuple? {t2==tu[1]}\")\n",
    "\n",
    "dico = {\n",
    "    \"hey\": 1,\n",
    "    56897: 6\n",
    "}\n",
    "print(f\"At key 'hey' in dico the value is: {dico['hey']}\")\n",
    "\n",
    "se = set([1,1,1,1,2,3,4,5,5,5,6])\n",
    "print(f\"This set only has {len(se)} elements\")\n"
   ]
  },
  {
   "cell_type": "markdown",
   "metadata": {
    "colab_type": "text",
    "id": "aBFXkLGqpVf6"
   },
   "source": [
    "(By now you'll have noted that we used a strange `string` format called `f-string` to print the values behind the variables, [here](https://realpython.com/python-f-strings/) you can find a more detailed explanation on the inner workings.)\n",
    "\n",
    "There is also a whole slew of even more versatile data structures in the `collections` [package](https://docs.python.org/3/library/collections.html). A handy one is the `defaultdict` which gives a default `value` to a previously unseen `key`."
   ]
  },
  {
   "cell_type": "code",
   "execution_count": 0,
   "metadata": {
    "colab": {
     "base_uri": "https://localhost:8080/",
     "height": 35
    },
    "colab_type": "code",
    "id": "54TsRpFhpnYT",
    "outputId": "feb285ad-f903-48b5-a93e-93c973b6b42e"
   },
   "outputs": [
    {
     "name": "stdout",
     "output_type": "stream",
     "text": [
      "The default value is 0\n"
     ]
    }
   ],
   "source": [
    "# Importing a specific function or class from another package follows this syntax\n",
    "# from <package> import <function>\n",
    "from collections import defaultdict\n",
    "a = defaultdict(int)\n",
    "print(f\"The default value is {a['whatever']}\")"
   ]
  },
  {
   "cell_type": "markdown",
   "metadata": {
    "colab_type": "text",
    "id": "Odv_5ZT_toOd"
   },
   "source": [
    "# Iterators\n",
    "\n",
    "There are a few easy ways to iterate over data structures in python, the most important ones are listed below, but this is far from an exhaustive list. "
   ]
  },
  {
   "cell_type": "code",
   "execution_count": 0,
   "metadata": {
    "colab": {
     "base_uri": "https://localhost:8080/",
     "height": 109
    },
    "colab_type": "code",
    "id": "ARSWs7_VXe7J",
    "outputId": "ecf08e5c-65c9-421a-a455-dac1c2349d5d"
   },
   "outputs": [
    {
     "name": "stdout",
     "output_type": "stream",
     "text": [
      "Range 1\n",
      "0, 1, 2, \n",
      "\n",
      "Range 2\n",
      "4, 6, 8, "
     ]
    }
   ],
   "source": [
    "# The basic iterator or for loop\n",
    "print(\"Range 1\")\n",
    "for i in range(3):\n",
    "  print(i, end=', ')\n",
    "\n",
    "print(\"\\n\\nRange 2\")\n",
    "for i in range(4,9,2):\n",
    "  print(i, end=', ')"
   ]
  },
  {
   "cell_type": "code",
   "execution_count": 0,
   "metadata": {
    "colab": {
     "base_uri": "https://localhost:8080/",
     "height": 274
    },
    "colab_type": "code",
    "id": "8Qb1MSm3xE2h",
    "outputId": "7ba8174e-43c8-46cd-e302-a57c4a7a619c"
   },
   "outputs": [
    {
     "name": "stdout",
     "output_type": "stream",
     "text": [
      "Iterating over list\n",
      "1, 2, 3, 5, \n",
      "\n",
      "Iterating over list with indices\n",
      "At index 0: 1\n",
      "At index 1: 2\n",
      "At index 2: 3\n",
      "At index 3: 5\n",
      "\n",
      "Iterating over 2 list of the same size simultaneously\n",
      "1 1\n",
      "2 150\n",
      "3 3\n",
      "5 5\n"
     ]
    }
   ],
   "source": [
    "# Iterating over a list\n",
    "print(\"Iterating over list\")\n",
    "for elem in li:\n",
    "  print(elem, end=', ')\n",
    "\n",
    "print(\"\\n\\nIterating over list with indices\")\n",
    "for index, elem in enumerate(li):\n",
    "  print(f\"At index {index}: {elem}\")\n",
    "\n",
    "print(\"\\nIterating over 2 list of the same size simultaneously\")\n",
    "li2 = li.copy() # duplicates a list\n",
    "li2[1] = 150\n",
    "for elem, elem2 in zip(li, li2):\n",
    "  print(elem, elem2)\n",
    "\n"
   ]
  },
  {
   "cell_type": "code",
   "execution_count": 0,
   "metadata": {
    "colab": {
     "base_uri": "https://localhost:8080/",
     "height": 201
    },
    "colab_type": "code",
    "id": "lQtvyTlg2D8Y",
    "outputId": "8e45c75b-b22c-48fd-99af-281656312e01"
   },
   "outputs": [
    {
     "name": "stdout",
     "output_type": "stream",
     "text": [
      "Simple dict iteration\n",
      "Value 1 at key hey\n",
      "Value 6 at key 56897\n",
      "\n",
      "Iterating over values only\n",
      "1, 6, \n",
      "\n",
      "Iterating over both at once\n",
      "Value 1 at key hey\n",
      "Value 6 at key 56897\n"
     ]
    }
   ],
   "source": [
    "# Iterating over a dictionary\n",
    "print(\"Simple dict iteration\")\n",
    "for key in dico: # An equivalent formulation would be: for key in dico.keys()\n",
    "  print(f\"Value {dico[key]} at key {key}\")\n",
    "\n",
    "print(\"\\nIterating over values only\")\n",
    "for value in dico.values():\n",
    "  print(value, end=', ')\n",
    "\n",
    "print(\"\\n\\nIterating over both at once\")\n",
    "for key, value in dico.items():\n",
    "  print(f\"Value {value} at key {key}\")"
   ]
  },
  {
   "cell_type": "markdown",
   "metadata": {
    "colab_type": "text",
    "id": "g8OS_CkNyMM3"
   },
   "source": [
    "# Functions and classes\n",
    "\n",
    "Python supports both functional programming and object oriented programming with inheritance (like in Java).\n",
    "\n",
    "As was already stated, python is dynamically typed, so during function definition you don't need to specify an argument's type. You can however give it a default value."
   ]
  },
  {
   "cell_type": "code",
   "execution_count": 0,
   "metadata": {
    "colab": {
     "base_uri": "https://localhost:8080/",
     "height": 109
    },
    "colab_type": "code",
    "id": "So55Rcht3Y32",
    "outputId": "438f1503-9205-42ce-fdd1-7b763f7e5a0a"
   },
   "outputs": [
    {
     "name": "stdout",
     "output_type": "stream",
     "text": [
      "5\n",
      "11\n",
      "11\n",
      "11\n",
      "11\n"
     ]
    }
   ],
   "source": [
    "# Example of function definition\n",
    "def line(x, alpha=1, c=0):\n",
    "  \"\"\" Returns the y-value of the line with coefficients:\n",
    "      - alpha (steepness) \n",
    "      - c (offset)\n",
    "      at point x \n",
    "  \"\"\"\n",
    "  return alpha*x + c\n",
    "\n",
    "# OK\n",
    "print(line(5))\n",
    "print(line(5, 2, 1))\n",
    "print(line(5, c=1, alpha=2)) # If you name the arguments, order is not important\n",
    "print(line(x=5, c=1, alpha=2))\n",
    "\n",
    "# Not ideal\n",
    "print(line(c=1, alpha=2, x=5)) # But moving the arguments without defaults like \n",
    "                               # this, is not really good practice"
   ]
  },
  {
   "cell_type": "code",
   "execution_count": 0,
   "metadata": {
    "colab": {
     "base_uri": "https://localhost:8080/",
     "height": 35
    },
    "colab_type": "code",
    "id": "N4iO8gpr79n8",
    "outputId": "2f7683a6-d12b-4d9f-d502-bc9cdae4dae5"
   },
   "outputs": [
    {
     "name": "stdout",
     "output_type": "stream",
     "text": [
      "11\n"
     ]
    }
   ],
   "source": [
    "# Example of a class definition\n",
    "class Line():\n",
    "  def __init__(self, alpha=1, c=0): # This is the object's constructor\n",
    "    \"\"\" Creates the Line objectwith coefficients:\n",
    "      - alpha (steepness) \n",
    "      - c (offset)\n",
    "    \"\"\"\n",
    "    self.alpha = alpha\n",
    "    self.c = c\n",
    "\n",
    "  def get_y(self, x):\n",
    "    \"\"\" Returns the value of the line at point x\n",
    "    \"\"\"\n",
    "    return self.alpha*x + self.c\n",
    "\n",
    "simple_line = Line(alpha=2, c=1)\n",
    "print(simple_line.get_y(5))"
   ]
  },
  {
   "cell_type": "markdown",
   "metadata": {
    "colab_type": "text",
    "id": "0vYo54YlxSn-"
   },
   "source": [
    "# Pitfalls\n",
    "\n",
    "Python is not without its flaws, and one you should really look out for is the scope of variables. For example in most languages the following example would throw an error, but not here. This is due to python not really limiting the scope of certain variables inside a function "
   ]
  },
  {
   "cell_type": "code",
   "execution_count": 0,
   "metadata": {
    "colab": {
     "base_uri": "https://localhost:8080/",
     "height": 71
    },
    "colab_type": "code",
    "id": "LwHUjVpvxa9G",
    "outputId": "1df5f813-e3eb-4e4c-91e6-347ac42e114c"
   },
   "outputs": [
    {
     "name": "stdout",
     "output_type": "stream",
     "text": [
      "i after for loop =  5\n",
      "i in test =  5\n",
      "j is not declared\n"
     ]
    }
   ],
   "source": [
    "for i in range(6):\n",
    "    pass\n",
    "\n",
    "print(\"i after for loop = \", i) # i still exists!!\n",
    "\n",
    "def test():\n",
    "  print(\"i in test = \", i) # i is still acessible here too!!\n",
    "  j = 5\n",
    "test()\n",
    "try:\n",
    "  print(j) # But j is not accessible here\n",
    "except:\n",
    "  print(\"j is not declared\")\n"
   ]
  },
  {
   "cell_type": "markdown",
   "metadata": {
    "colab_type": "text",
    "id": "HZSOrA6QX5jz"
   },
   "source": [
    "# Final words\n",
    "Do not hesitate to read the excellent official [documentation](https://docs.python.org/3/) or the Q&A's on StackOverflow to find new ways to write better code, but never forget to cite your sources and have fun!"
   ]
  },
  {
   "cell_type": "markdown",
   "metadata": {},
   "source": [
    "Je teste le code\n",
    "..."
   ]
  },
  {
   "cell_type": "markdown",
   "metadata": {},
   "source": [
    "Jo\n"
   ]
  },
  {
   "cell_type": "markdown",
   "metadata": {},
   "source": [
    "Je df\n"
   ]
  },
  {
   "cell_type": "code",
   "execution_count": 1,
   "metadata": {},
   "outputs": [
    {
     "name": "stdout",
     "output_type": "stream",
     "text": [
      "Salut\n"
     ]
    }
   ],
   "source": [
    "print(\"Salut\")"
   ]
  },
  {
   "cell_type": "code",
   "execution_count": null,
   "metadata": {},
   "outputs": [],
   "source": []
  }
 ],
 "metadata": {
  "colab": {
   "collapsed_sections": [],
   "name": "PythonIntro.ipynb",
   "provenance": []
  },
  "kernelspec": {
   "display_name": "Python 3",
   "language": "python",
   "name": "python3"
  },
  "language_info": {
   "codemirror_mode": {
    "name": "ipython",
    "version": 3
   },
   "file_extension": ".py",
   "mimetype": "text/x-python",
   "name": "python",
   "nbconvert_exporter": "python",
   "pygments_lexer": "ipython3",
   "version": "3.6.8"
  }
 },
 "nbformat": 4,
 "nbformat_minor": 1
}

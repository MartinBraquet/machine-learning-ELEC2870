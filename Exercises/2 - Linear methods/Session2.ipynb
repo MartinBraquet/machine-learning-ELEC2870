{
 "cells": [
  {
   "cell_type": "markdown",
   "metadata": {},
   "source": [
    "# Linear Regression"
   ]
  },
  {
   "cell_type": "code",
   "execution_count": 1,
   "metadata": {},
   "outputs": [],
   "source": [
    "from sklearn.base import BaseEstimator\n",
    "\n",
    "# Computes the Root Mean Square Error\n",
    "def compute_rmse(predict, target):\n",
    "    # Implement RMSE\n",
    "    return 0\n",
    "\n",
    "class MyLinearRegressor(BaseEstimator):\n",
    "    def __init__(self, add_bias=True):\n",
    "        super().__init__()\n",
    "        self.add_bias = add_bias\n",
    "        \n",
    "    def fit(self, X, y):\n",
    "        # TODO:\n",
    "        # Compute the coefficients for the linear regression\n",
    "        # DO NOT FORGET the add_bias argument\n",
    "        return self\n",
    "    \n",
    "    def predict(self, X):\n",
    "        # TODO: \n",
    "        # Return y the solution based on the coefficients (computed beforehand)\n",
    "        # applied on X\n",
    "        return y\n",
    "    \n",
    "    def fit_predict(self, X, y):\n",
    "        return self.fit(X, y).predict(X)\n",
    "    \n",
    "    def score(self, X, y_true):\n",
    "        y = self.predict(X)\n",
    "        return compute_rmse(y, y_true)"
   ]
  },
  {
   "cell_type": "markdown",
   "metadata": {},
   "source": [
    "# PCA (+lin.reg.)"
   ]
  },
  {
   "cell_type": "code",
   "execution_count": 2,
   "metadata": {
    "scrolled": false
   },
   "outputs": [],
   "source": [
    "from sklearn.decomposition import PCA\n",
    "from sklearn.preprocessing import StandardScaler\n",
    "from sklearn.pipeline import Pipeline\n",
    "\n",
    "\n",
    "class MyStandardScaler():\n",
    "    def __init__(self, with_std=True):\n",
    "        self.with_std = with_std\n",
    "    \n",
    "    def fit(self, X, y=None):\n",
    "        '''\n",
    "            Computes the mean and standard deviation (if with_std is True)\n",
    "            based on X\n",
    "            Returns itself\n",
    "        '''\n",
    "        self.mean = np.mean(X, axis=0)\n",
    "        if self.with_std:\n",
    "            X = X - self.mean\n",
    "            self.std = np.sqrt(np.var(X, axis=0))\n",
    "        return self\n",
    "\n",
    "    def transform(self, X):\n",
    "        '''\n",
    "            Transforms X based on the previously computed mean and std\n",
    "            and returns it\n",
    "        '''\n",
    "        X = X - self.mean\n",
    "        if self.with_std:\n",
    "            X = X / self.std\n",
    "        return X\n",
    "    \n",
    "    def fit_transform(self, X, y=None):\n",
    "        return self.fit(X, y).transform(X)\n",
    "\n",
    "\n",
    "class MyPCA():\n",
    "    def __init__(self, n_components, ):\n",
    "        self.n_comps = n_components\n",
    "        \n",
    "    def fit(self, X, y=None):\n",
    "        # TODO:\n",
    "        # Implement PCA with SVD & save the coefficients\n",
    "        return self\n",
    "    \n",
    "    def transform(self, X):\n",
    "        # TODO:\n",
    "        # Transform X by aggregating the features with the PCA\n",
    "        # coefficients computed in 'fit'\n",
    "        return None\n",
    "    \n",
    "    def fit_transform(self, X, y=None):\n",
    "        return self.fit(X, y).transform(X)\n",
    "\n",
    "\n",
    "n_comps = 2\n",
    "\n",
    "# TODO: \n",
    "# Replace the default implementation with your own and CHECK that you obtain the same result\n",
    "# pca = Pipeline([('scaler', StandardScaler(with_std=True)), ('pca', PCA(n_components=n_comps))])\n",
    "# pca.fit_transform(X) # Here X contains the loaded data"
   ]
  }
 ],
 "metadata": {
  "celltoolbar": "Tags",
  "kernelspec": {
   "display_name": "Python 3",
   "language": "python",
   "name": "python3"
  },
  "language_info": {
   "codemirror_mode": {
    "name": "ipython",
    "version": 3
   },
   "file_extension": ".py",
   "mimetype": "text/x-python",
   "name": "python",
   "nbconvert_exporter": "python",
   "pygments_lexer": "ipython3",
   "version": "3.6.8"
  }
 },
 "nbformat": 4,
 "nbformat_minor": 2
}
